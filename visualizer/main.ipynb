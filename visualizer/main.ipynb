{
 "cells": [
  {
   "cell_type": "code",
   "execution_count": 2,
   "id": "ef65b332",
   "metadata": {},
   "outputs": [],
   "source": [
    "import os\n",
    "import ipywidgets as widgets\n",
    "from IPython.display import display, Image as IPImage, clear_output\n",
    "from main import visualize_bounding_boxes  \n",
    "\n",
    "base_dir = \"../datasets\"\n",
    "\n",
    "def get_datasets(base_dir=\"../datasets\"):\n",
    "    \"\"\"Get all dataset directories\"\"\"\n",
    "    if not os.path.exists(base_dir):\n",
    "        return []\n",
    "\n",
    "    datasets = []\n",
    "    for item in os.listdir(base_dir):\n",
    "        dataset_path = os.path.join(base_dir, item)\n",
    "        if os.path.isdir(dataset_path) and os.path.exists(\n",
    "            os.path.join(dataset_path, \"web\")\n",
    "        ):\n",
    "            datasets.append(item)\n",
    "    return sorted(datasets)\n",
    "\n",
    "\n",
    "def get_annotation_files(dataset_name, base_dir=\"../dataset\"):\n",
    "    \"\"\"Get JSON files in web/ directory\"\"\"\n",
    "    web_dir = os.path.join(base_dir, dataset_name, \"web\")\n",
    "    if not os.path.exists(web_dir):\n",
    "        return []\n",
    "\n",
    "    return sorted([f for f in os.listdir(web_dir) if f.endswith(\".json\")])\n",
    "\n",
    "\n",
    "datasets = get_datasets(base_dir)"
   ]
  },
  {
   "cell_type": "code",
   "execution_count": 3,
   "id": "ce732687",
   "metadata": {},
   "outputs": [
    {
     "data": {
      "application/vnd.jupyter.widget-view+json": {
       "model_id": "228e477fa54b4a9ebc48ee5ae6310d60",
       "version_major": 2,
       "version_minor": 0
      },
      "text/plain": [
       "VBox(children=(Dropdown(description='Dataset:', options=('omniparser-1280-800', 'omniparser-512-1024', 'omnipa…"
      ]
     },
     "metadata": {},
     "output_type": "display_data"
    }
   ],
   "source": [
    "dataset_dropdown = widgets.Dropdown(options=datasets, description=\"Dataset:\")\n",
    "\n",
    "file_dropdown = widgets.Dropdown(options=[], description=\"File:\")\n",
    "\n",
    "visualize_button = widgets.Button(description=\"Visualize\", button_style=\"success\")\n",
    "\n",
    "output = widgets.Output()\n",
    "\n",
    "\n",
    "def update_files(change=None):\n",
    "    \"\"\"Update file dropdown when dataset changes\"\"\"\n",
    "    if dataset_dropdown.value:\n",
    "        files = get_annotation_files(dataset_dropdown.value, base_dir)\n",
    "        file_dropdown.options = files\n",
    "\n",
    "\n",
    "def on_visualize(button):\n",
    "    \"\"\"Run your existing function\"\"\"\n",
    "    with output:\n",
    "        clear_output(wait=True)\n",
    "\n",
    "        if not dataset_dropdown.value or not file_dropdown.value:\n",
    "            print(\"Select dataset and file first\")\n",
    "            return\n",
    "\n",
    "        # Call YOUR function with the right parameters\n",
    "        dataset_path = os.path.join(base_dir, dataset_dropdown.value)\n",
    "        output_path = visualize_bounding_boxes(file_dropdown.value, dataset_path)\n",
    "\n",
    "        if output_path and os.path.exists(output_path):\n",
    "            display(IPImage(filename=output_path))\n",
    "\n",
    "\n",
    "# Wire up the shit\n",
    "dataset_dropdown.observe(update_files, names=\"value\")\n",
    "visualize_button.on_click(on_visualize)\n",
    "\n",
    "# Initialize files for first dataset\n",
    "update_files()\n",
    "\n",
    "# Display the interface\n",
    "display(widgets.VBox([dataset_dropdown, file_dropdown, visualize_button, output]))"
   ]
  },
  {
   "cell_type": "code",
   "execution_count": null,
   "id": "6d57e5ca-dbb1-4c32-ac21-9934223160a2",
   "metadata": {},
   "outputs": [],
   "source": []
  }
 ],
 "metadata": {
  "kernelspec": {
   "display_name": "Python 3 (ipykernel)",
   "language": "python",
   "name": "python3"
  },
  "language_info": {
   "codemirror_mode": {
    "name": "ipython",
    "version": 3
   },
   "file_extension": ".py",
   "mimetype": "text/x-python",
   "name": "python",
   "nbconvert_exporter": "python",
   "pygments_lexer": "ipython3",
   "version": "3.13.2"
  }
 },
 "nbformat": 4,
 "nbformat_minor": 5
}
