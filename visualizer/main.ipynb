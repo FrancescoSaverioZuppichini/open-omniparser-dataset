{
 "cells": [
  {
   "cell_type": "code",
   "execution_count": 6,
   "id": "ef65b332",
   "metadata": {},
   "outputs": [],
   "source": [
    "import os\n",
    "import ipywidgets as widgets\n",
    "from IPython.display import display, Image as IPImage, clear_output\n",
    "from main import visualize_bounding_boxes  \n",
    "\n",
    "base_dir = \"../datasets\"\n",
    "\n",
    "def get_datasets(base_dir=\"../datasets\"):\n",
    "    \"\"\"Get all dataset directories\"\"\"\n",
    "    if not os.path.exists(base_dir):\n",
    "        return []\n",
    "\n",
    "    datasets = []\n",
    "    for item in os.listdir(base_dir):\n",
    "        dataset_path = os.path.join(base_dir, item)\n",
    "        if os.path.isdir(dataset_path) and os.path.exists(\n",
    "            os.path.join(dataset_path, \"web\")\n",
    "        ):\n",
    "            datasets.append(item)\n",
    "    return sorted(datasets)\n",
    "\n",
    "\n",
    "def get_annotation_files(dataset_name, base_dir=\"../dataset\"):\n",
    "    \"\"\"Get JSON files in web/ directory\"\"\"\n",
    "    web_dir = os.path.join(base_dir, dataset_name, \"web\")\n",
    "    if not os.path.exists(web_dir):\n",
    "        return []\n",
    "\n",
    "    return sorted([f for f in os.listdir(web_dir) if f.endswith(\".json\")])\n",
    "\n",
    "\n",
    "datasets = get_datasets(base_dir)"
   ]
  },
  {
   "cell_type": "code",
   "execution_count": 10,
   "id": "ce732687",
   "metadata": {},
   "outputs": [
    {
     "data": {
      "application/vnd.jupyter.widget-view+json": {
       "model_id": "70af1ff10a5c42f98f1db2ad6a4cbfe9",
       "version_major": 2,
       "version_minor": 0
      },
      "text/plain": [
       "VBox(children=(Dropdown(description='Dataset:', options=('omniparser-1280-800', 'omniparser-512-1024', 'omnipa…"
      ]
     },
     "metadata": {},
     "output_type": "display_data"
    }
   ],
   "source": [
    "dataset_dropdown = widgets.Dropdown(options=datasets, description=\"Dataset:\")\n",
    "file_dropdown = widgets.Dropdown(options=[], description=\"File:\")\n",
    "output = widgets.Output()\n",
    "\n",
    "def update_files(change=None):\n",
    "    \"\"\"Update file dropdown when dataset changes\"\"\"\n",
    "    if dataset_dropdown.value:\n",
    "        files = get_annotation_files(dataset_dropdown.value, base_dir)\n",
    "        file_dropdown.options = files\n",
    "        # Clear output when dataset changes\n",
    "        with output:\n",
    "            clear_output(wait=True)\n",
    "\n",
    "def auto_visualize(change=None):\n",
    "    \"\"\"Auto-visualize when file is selected\"\"\"\n",
    "    with output:\n",
    "        clear_output(wait=True)\n",
    "        \n",
    "        if not dataset_dropdown.value or not file_dropdown.value:\n",
    "            return  # Silently bail - no nagging messages\n",
    "        \n",
    "        # Your visualization shit\n",
    "        dataset_path = os.path.join(base_dir, dataset_dropdown.value)\n",
    "        image = visualize_bounding_boxes(file_dropdown.value, dataset_path, False)\n",
    "        display(image)\n",
    "\n",
    "# Wire up the observers\n",
    "dataset_dropdown.observe(update_files, names=\"value\")\n",
    "file_dropdown.observe(auto_visualize, names=\"value\")  # This triggers on file selection\n",
    "\n",
    "# Initialize\n",
    "update_files()\n",
    "\n",
    "# Clean interface - no fucking button\n",
    "display(widgets.VBox([dataset_dropdown, file_dropdown, output]))"
   ]
  }
 ],
 "metadata": {
  "kernelspec": {
   "display_name": "Python 3 (ipykernel)",
   "language": "python",
   "name": "python3"
  },
  "language_info": {
   "codemirror_mode": {
    "name": "ipython",
    "version": 3
   },
   "file_extension": ".py",
   "mimetype": "text/x-python",
   "name": "python",
   "nbconvert_exporter": "python",
   "pygments_lexer": "ipython3",
   "version": "3.13.2"
  }
 },
 "nbformat": 4,
 "nbformat_minor": 5
}
